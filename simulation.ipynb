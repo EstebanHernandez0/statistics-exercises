{
 "cells": [
  {
   "cell_type": "code",
   "execution_count": 4,
   "id": "cf1a5e0f",
   "metadata": {},
   "outputs": [],
   "source": [
    "%matplotlib inline\n",
    "import numpy as np\n",
    "import pandas as pd\n"
   ]
  },
  {
   "cell_type": "code",
   "execution_count": 5,
   "id": "3dfdc473",
   "metadata": {},
   "outputs": [],
   "source": [
    "# How likely is it that you roll doubles when rolling two dice?"
   ]
  },
  {
   "cell_type": "code",
   "execution_count": 15,
   "id": "46ae1455",
   "metadata": {},
   "outputs": [],
   "source": [
    "n_trials = nrows = 10_000\n",
    "n_dice = ncols = 1"
   ]
  },
  {
   "cell_type": "code",
   "execution_count": 19,
   "id": "57b904d4",
   "metadata": {},
   "outputs": [
    {
     "data": {
      "text/plain": [
       "(array([[1],\n",
       "        [4],\n",
       "        [4],\n",
       "        ...,\n",
       "        [3],\n",
       "        [1],\n",
       "        [4]]),\n",
       " array([[2],\n",
       "        [3],\n",
       "        [1],\n",
       "        ...,\n",
       "        [6],\n",
       "        [6],\n",
       "        [1]]))"
      ]
     },
     "execution_count": 19,
     "metadata": {},
     "output_type": "execute_result"
    }
   ],
   "source": [
    "die1 = np.random.choice([1, 2, 3, 4, 5, 6], n_trials * n_dice).reshape(nrows, ncols)\n",
    "die2 = np.random.choice([1, 2, 3, 4, 5, 6], n_trials * n_dice).reshape(nrows, ncols)\n",
    "die1, die2"
   ]
  },
  {
   "cell_type": "code",
   "execution_count": 20,
   "id": "019b7475",
   "metadata": {},
   "outputs": [],
   "source": [
    "sum_double = die1 == die2\n",
    "sum_double.sum()"
   ]
  },
  {
   "cell_type": "code",
   "execution_count": 25,
   "id": "6d93ffdc",
   "metadata": {},
   "outputs": [
    {
     "data": {
      "text/plain": [
       "0.1618"
      ]
     },
     "execution_count": 25,
     "metadata": {},
     "output_type": "execute_result"
    }
   ],
   "source": [
    "probability = sum_double.mean()\n",
    "probability"
   ]
  },
  {
   "cell_type": "code",
   "execution_count": null,
   "id": "842b042b",
   "metadata": {},
   "outputs": [],
   "source": [
    "# If you flip 8 coins, what is the probability of getting exactly 3 heads? What is the probability of getting more than 3 heads?"
   ]
  },
  {
   "cell_type": "code",
   "execution_count": 55,
   "id": "f136cdb6",
   "metadata": {},
   "outputs": [],
   "source": [
    "n_trials = nrows = 8\n",
    "n_coin = ncols = 1"
   ]
  },
  {
   "cell_type": "code",
   "execution_count": 56,
   "id": "22aa67ac",
   "metadata": {},
   "outputs": [],
   "source": [
    "flips = np.random.choice([1, 0], n_trials * n_coin).reshape(nrows, ncols)\n",
    "# 0 is equal to heads and 1 is equal to tails"
   ]
  },
  {
   "cell_type": "code",
   "execution_count": 57,
   "id": "439cec8d",
   "metadata": {},
   "outputs": [
    {
     "data": {
      "text/plain": [
       "array([[0],\n",
       "       [1],\n",
       "       [0],\n",
       "       [0],\n",
       "       [0],\n",
       "       [1],\n",
       "       [0],\n",
       "       [1]])"
      ]
     },
     "execution_count": 57,
     "metadata": {},
     "output_type": "execute_result"
    }
   ],
   "source": [
    "flips"
   ]
  },
  {
   "cell_type": "code",
   "execution_count": 58,
   "id": "334afcf0",
   "metadata": {},
   "outputs": [
    {
     "data": {
      "text/plain": [
       "5"
      ]
     },
     "execution_count": 58,
     "metadata": {},
     "output_type": "execute_result"
    }
   ],
   "source": [
    "head3 = flips == 0\n",
    "head3.sum()"
   ]
  },
  {
   "cell_type": "code",
   "execution_count": 59,
   "id": "c350cf1a",
   "metadata": {},
   "outputs": [
    {
     "data": {
      "text/plain": [
       "0.625"
      ]
     },
     "execution_count": 59,
     "metadata": {},
     "output_type": "execute_result"
    }
   ],
   "source": [
    "head3.mean()"
   ]
  },
  {
   "cell_type": "code",
   "execution_count": null,
   "id": "4d07ec67",
   "metadata": {},
   "outputs": [],
   "source": [
    "# There are approximitely 3 web development cohorts for every 1 data science cohort at Codeup. Assuming that Codeup randomly selects an alumni to put on a billboard, what are the odds that the two billboards I drive past both have data science students on them?"
   ]
  },
  {
   "cell_type": "code",
   "execution_count": 79,
   "id": "1a0fbbbe",
   "metadata": {},
   "outputs": [],
   "source": [
    "data_cohort = 1\n",
    "bill_board = ncol = 2\n",
    "n_trials = nrow = 10_000"
   ]
  },
  {
   "cell_type": "code",
   "execution_count": 80,
   "id": "02e7f932",
   "metadata": {},
   "outputs": [
    {
     "data": {
      "text/plain": [
       "array([[2, 3],\n",
       "       [1, 3],\n",
       "       [2, 2],\n",
       "       ...,\n",
       "       [1, 3],\n",
       "       [3, 2],\n",
       "       [3, 3]])"
      ]
     },
     "execution_count": 80,
     "metadata": {},
     "output_type": "execute_result"
    }
   ],
   "source": [
    "data = np.random.choice(4, nrow * ncol).reshape(nrow, ncol)\n",
    "data"
   ]
  },
  {
   "cell_type": "code",
   "execution_count": 81,
   "id": "d4d8752b",
   "metadata": {},
   "outputs": [
    {
     "data": {
      "text/plain": [
       "0.0655"
      ]
     },
     "execution_count": 81,
     "metadata": {},
     "output_type": "execute_result"
    }
   ],
   "source": [
    "(pd.DataFrame(data)\n",
    " .apply(lambda row: row[0] == row[1] == 1, axis=1).mean())"
   ]
  },
  {
   "cell_type": "code",
   "execution_count": null,
   "id": "ea7ab9a7",
   "metadata": {},
   "outputs": [],
   "source": []
  },
  {
   "cell_type": "code",
   "execution_count": null,
   "id": "4b4dcfcf",
   "metadata": {},
   "outputs": [],
   "source": []
  }
 ],
 "metadata": {
  "kernelspec": {
   "display_name": "Python 3 (ipykernel)",
   "language": "python",
   "name": "python3"
  },
  "language_info": {
   "codemirror_mode": {
    "name": "ipython",
    "version": 3
   },
   "file_extension": ".py",
   "mimetype": "text/x-python",
   "name": "python",
   "nbconvert_exporter": "python",
   "pygments_lexer": "ipython3",
   "version": "3.9.13"
  }
 },
 "nbformat": 4,
 "nbformat_minor": 5
}
