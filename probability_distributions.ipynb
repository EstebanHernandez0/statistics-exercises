{
 "cells": [
  {
   "cell_type": "code",
   "execution_count": 2,
   "id": "8ae38132",
   "metadata": {},
   "outputs": [],
   "source": [
    "import matplotlib.pyplot as plt\n",
    "import numpy as np\n",
    "from scipy import stats\n",
    "from scipy import norm, binom"
   ]
  },
  {
   "cell_type": "markdown",
   "id": "7039b904",
   "metadata": {},
   "source": [
    "# A bank found that the average number of cars waiting during the noon hour at a drive-up window follows a Poisson distribution with a mean of 2 cars. Make a chart of this distribution and answer these questions concerning the probability of cars waiting at the drive-up window."
   ]
  },
  {
   "cell_type": "code",
   "execution_count": 55,
   "id": "bc2bfd3c",
   "metadata": {},
   "outputs": [
    {
     "data": {
      "text/plain": [
       "array([1.35335283e-01, 2.70670566e-01, 2.70670566e-01, 1.80447044e-01,\n",
       "       9.02235222e-02, 3.60894089e-02, 1.20298030e-02, 3.43708656e-03,\n",
       "       8.59271640e-04, 1.90949253e-04, 3.81898506e-05])"
      ]
     },
     "execution_count": 55,
     "metadata": {},
     "output_type": "execute_result"
    }
   ],
   "source": [
    "a = 2\n",
    "\n",
    "\n",
    "x = np.arange(0,11)\n",
    "y = stats.poisson(a).pmf(x)\n",
    "\n",
    "y"
   ]
  },
  {
   "cell_type": "code",
   "execution_count": 54,
   "id": "24482299",
   "metadata": {},
   "outputs": [
    {
     "data": {
      "text/plain": [
       "Text(0, 0.5, 'P(X)')"
      ]
     },
     "execution_count": 54,
     "metadata": {},
     "output_type": "execute_result"
    },
    {
     "data": {
      "image/png": "[encoded data removed]",
      "text/plain": [
       "<Figure size 640x480 with 1 Axes>"
      ]
     },
     "metadata": {},
     "output_type": "display_data"
    }
   ],
   "source": [
    "plt.bar(x, y)\n",
    "plt.title('Poisson distribution with a = 2')\n",
    "plt.xlabel('Number of each cars during noon hours')\n",
    "plt.ylabel('P(X)')"
   ]
  },
  {
   "cell_type": "markdown",
   "id": "07dc5407",
   "metadata": {},
   "source": [
    "- What is the probability that no cars drive up in the noon hour?"
   ]
  },
  {
   "cell_type": "code",
   "execution_count": 56,
   "id": "3007344f",
   "metadata": {},
   "outputs": [
    {
     "data": {
      "text/plain": [
       "0.1353352832366127"
      ]
     },
     "execution_count": 56,
     "metadata": {},
     "output_type": "execute_result"
    }
   ],
   "source": [
    "a = 2\n",
    "stats.poisson(a).pmf(0)"
   ]
  },
  {
   "cell_type": "code",
   "execution_count": null,
   "id": "13ab61d0",
   "metadata": {},
   "outputs": [],
   "source": []
  },
  {
   "cell_type": "code",
   "execution_count": 22,
   "id": "123a427e",
   "metadata": {},
   "outputs": [
    {
     "data": {
      "text/plain": [
       "0.1353352832366127"
      ]
     },
     "execution_count": 22,
     "metadata": {},
     "output_type": "execute_result"
    }
   ],
   "source": [
    "stats.poisson.pmf(k = 0, mu = 2)"
   ]
  },
  {
   "cell_type": "markdown",
   "id": "54621f85",
   "metadata": {},
   "source": [
    "- What is the probability that 3 or more cars come through the drive through?"
   ]
  },
  {
   "cell_type": "code",
   "execution_count": 61,
   "id": "e5ea0aa6",
   "metadata": {},
   "outputs": [
    {
     "data": {
      "text/plain": [
       "0.32332358381693654"
      ]
     },
     "execution_count": 61,
     "metadata": {},
     "output_type": "execute_result"
    }
   ],
   "source": [
    "stats.poisson(a).sf(2)"
   ]
  },
  {
   "cell_type": "markdown",
   "id": "5c1a2daa",
   "metadata": {},
   "source": [
    "- How likely is it that the drive through gets at least 1 car?"
   ]
  },
  {
   "cell_type": "code",
   "execution_count": 62,
   "id": "7fbff1e5",
   "metadata": {},
   "outputs": [
    {
     "data": {
      "text/plain": [
       "0.8646647167633873"
      ]
     },
     "execution_count": 62,
     "metadata": {},
     "output_type": "execute_result"
    }
   ],
   "source": [
    "stats.poisson(a).sf(0)"
   ]
  },
  {
   "cell_type": "markdown",
   "id": "94e2f2d7",
   "metadata": {},
   "source": [
    "# Grades of State University graduates are normally distributed with a mean of 3.0 and a standard deviation of .3. Calculate the following:"
   ]
  },
  {
   "cell_type": "markdown",
   "id": "62e09fbe",
   "metadata": {},
   "source": [
    " - What grade point average is required to be in the top 5% of the graduating class?"
   ]
  },
  {
   "cell_type": "code",
   "execution_count": 66,
   "id": "2a5e4163",
   "metadata": {},
   "outputs": [
    {
     "data": {
      "text/plain": [
       "3.4934560880854417"
      ]
     },
     "execution_count": 66,
     "metadata": {},
     "output_type": "execute_result"
    }
   ],
   "source": [
    "mean = 3.0\n",
    "\n",
    "std = .3\n",
    "\n",
    "grade = stats.norm(mean, std)\n",
    "\n",
    "grade.isf(.05)"
   ]
  },
  {
   "cell_type": "code",
   "execution_count": null,
   "id": "8f676905",
   "metadata": {},
   "outputs": [],
   "source": []
  },
  {
   "cell_type": "markdown",
   "id": "5506a4d6",
   "metadata": {},
   "source": [
    "- What GPA constitutes the bottom 15% of the class?"
   ]
  },
  {
   "cell_type": "code",
   "execution_count": 71,
   "id": "df3cbcf7",
   "metadata": {},
   "outputs": [
    {
     "data": {
      "text/plain": [
       "2.689069983151863"
      ]
     },
     "execution_count": 71,
     "metadata": {},
     "output_type": "execute_result"
    }
   ],
   "source": [
    "grade.ppf(.15)"
   ]
  },
  {
   "cell_type": "markdown",
   "id": "6a478c4d",
   "metadata": {},
   "source": [
    "- An eccentric alumnus left scholarship money for students in the third decile from the bottom of their class. Determine the range of the third decile. Would a student with a 2.8 grade point average qualify for this scholarship"
   ]
  },
  {
   "cell_type": "code",
   "execution_count": 72,
   "id": "e0a2ce3f",
   "metadata": {},
   "outputs": [
    {
     "data": {
      "text/plain": [
       "array([2.74751363, 2.84267985])"
      ]
     },
     "execution_count": 72,
     "metadata": {},
     "output_type": "execute_result"
    }
   ],
   "source": [
    "range_of_gpas = grade.ppf([.20, .30])\n",
    "range_of_gpas\n",
    "                         "
   ]
  },
  {
   "cell_type": "code",
   "execution_count": 74,
   "id": "e4953074",
   "metadata": {},
   "outputs": [
    {
     "data": {
      "text/plain": [
       "True"
      ]
     },
     "execution_count": 74,
     "metadata": {},
     "output_type": "execute_result"
    }
   ],
   "source": [
    "(range_of_gpas[0] < 2.8) and (range_of_gpas[1] > 2.8)"
   ]
  },
  {
   "cell_type": "markdown",
   "id": "8016cc98",
   "metadata": {},
   "source": [
    "- If I have a GPA of 3.5, what percentile am I in?"
   ]
  },
  {
   "cell_type": "code",
   "execution_count": 75,
   "id": "7a4e2cc5",
   "metadata": {},
   "outputs": [
    {
     "data": {
      "text/plain": [
       "0.9522096477271853"
      ]
     },
     "execution_count": 75,
     "metadata": {},
     "output_type": "execute_result"
    }
   ],
   "source": [
    "grade.cdf(3.5)"
   ]
  },
  {
   "cell_type": "code",
   "execution_count": 77,
   "id": "98d0ac67",
   "metadata": {},
   "outputs": [
    {
     "data": {
      "text/plain": [
       "0.9522096477271853"
      ]
     },
     "execution_count": 77,
     "metadata": {},
     "output_type": "execute_result"
    }
   ],
   "source": [
    "1 - grade.sf(3.5)"
   ]
  },
  {
   "cell_type": "markdown",
   "id": "4e683cbc",
   "metadata": {},
   "source": [
    "# A marketing website has an average click-through rate of 2%. One day they observe 4326 visitors and 97 click-throughs. How likely is it that this many people or more click through?"
   ]
  },
  {
   "cell_type": "code",
   "execution_count": 79,
   "id": "091ce3d0",
   "metadata": {},
   "outputs": [
    {
     "data": {
      "text/plain": [
       "0.13975823631416448"
      ]
     },
     "execution_count": 79,
     "metadata": {},
     "output_type": "execute_result"
    }
   ],
   "source": [
    "n_trials = 4326\n",
    "p = .02\n",
    "click_throughs = stats.binom(n_trials, p)\n",
    "click_throughs.sf(96)"
   ]
  },
  {
   "cell_type": "code",
   "execution_count": 80,
   "id": "f1b345c2",
   "metadata": {},
   "outputs": [
    {
     "data": {
      "text/plain": [
       "86.52"
      ]
     },
     "execution_count": 80,
     "metadata": {},
     "output_type": "execute_result"
    }
   ],
   "source": [
    "b = n_trials * p\n",
    "b"
   ]
  },
  {
   "cell_type": "code",
   "execution_count": 81,
   "id": "22e5bb5d",
   "metadata": {},
   "outputs": [
    {
     "data": {
      "text/plain": [
       "0.14211867659283192"
      ]
     },
     "execution_count": 81,
     "metadata": {},
     "output_type": "execute_result"
    }
   ],
   "source": [
    "stats.poisson(b).sf(96)"
   ]
  },
  {
   "cell_type": "markdown",
   "id": "66528571",
   "metadata": {},
   "source": [
    "# You are working on some statistics homework consisting of 100 questions where all of the answers are a probability rounded to the hundreths place. Looking to save time, you put down random probabilities as the answer to each question."
   ]
  },
  {
   "cell_type": "markdown",
   "id": "982b2b5d",
   "metadata": {},
   "source": [
    "- What is the probability that at least one of your first 60 answers is correct?"
   ]
  },
  {
   "cell_type": "code",
   "execution_count": 49,
   "id": "4ee48b03",
   "metadata": {},
   "outputs": [
    {
     "data": {
      "text/plain": [
       "0.45284335760923855"
      ]
     },
     "execution_count": 49,
     "metadata": {},
     "output_type": "execute_result"
    }
   ],
   "source": [
    "stats.binom(60, .01 ).sf(0)"
   ]
  },
  {
   "cell_type": "code",
   "execution_count": 83,
   "id": "daca4b73",
   "metadata": {},
   "outputs": [
    {
     "data": {
      "text/plain": [
       "0.45284335760923855"
      ]
     },
     "execution_count": 83,
     "metadata": {},
     "output_type": "execute_result"
    }
   ],
   "source": [
    "n_trials = 60\n",
    "p = .01\n",
    "stats.binom(n_trials, p).sf(0)"
   ]
  },
  {
   "cell_type": "markdown",
   "id": "ab661370",
   "metadata": {},
   "source": [
    "### The codeup staff tends to get upset when the student break area is not cleaned up. Suppose that there's a 3% chance that any one student cleans the break area when they visit it, and, on any given day, about 90% of the 3 active cohorts of 22 students visit the break area. How likely is it that the break area gets cleaned up each day? "
   ]
  },
  {
   "cell_type": "code",
   "execution_count": 85,
   "id": "a35e7ce4",
   "metadata": {},
   "outputs": [],
   "source": [
    "students = round(.9 * 22 * 3)\n",
    "p = .03"
   ]
  },
  {
   "cell_type": "code",
   "execution_count": 86,
   "id": "4262f0ee",
   "metadata": {},
   "outputs": [
    {
     "data": {
      "text/plain": [
       "0.8342199288437352"
      ]
     },
     "execution_count": 86,
     "metadata": {},
     "output_type": "execute_result"
    }
   ],
   "source": [
    "clean = stats.binom(students, p)\n",
    "clean.sf(0)"
   ]
  },
  {
   "cell_type": "code",
   "execution_count": null,
   "id": "109f7d58",
   "metadata": {},
   "outputs": [],
   "source": [
    "two_days = students * 2\n",
    "stats.binom(two_days, p).pmf(0)"
   ]
  },
  {
   "cell_type": "markdown",
   "id": "fe3cf8a2",
   "metadata": {},
   "source": [
    "- How likely is it that it goes two days without getting cleaned up? All week?"
   ]
  },
  {
   "cell_type": "code",
   "execution_count": 88,
   "id": "8c7a9183",
   "metadata": {},
   "outputs": [
    {
     "data": {
      "text/plain": [
       "0.00012521651388091245"
      ]
     },
     "execution_count": 88,
     "metadata": {},
     "output_type": "execute_result"
    }
   ],
   "source": [
    "five_days = students * 5\n",
    "stats.binom(five_days, p).pmf(0)"
   ]
  },
  {
   "cell_type": "markdown",
   "id": "1b0d1f49",
   "metadata": {},
   "source": [
    "#### You want to get lunch at La Panaderia, but notice that the line is usually very long at lunchtime. After several weeks of careful observation, you notice that the average number of people in line when your lunch break starts is normally distributed with a mean of 15 and standard deviation of 3. If it takes 2 minutes for each person to order, and 10 minutes from ordering to getting your food, what is the likelihood that you have at least 15 minutes left to eat your food before you have to go back to class? Assume you have one hour for lunch, and ignore travel time to and from La Panaderia."
   ]
  },
  {
   "cell_type": "code",
   "execution_count": 91,
   "id": "35ea60fe",
   "metadata": {},
   "outputs": [
    {
     "data": {
      "text/plain": [
       "33"
      ]
     },
     "execution_count": 91,
     "metadata": {},
     "output_type": "execute_result"
    }
   ],
   "source": [
    "# time is in minutes\n",
    "mean = 15 * 2\n",
    "std = 3 * 2\n",
    "\n",
    "total_lunch_time = 60 \n",
    "order_time = 2 \n",
    "eat_time = 15\n",
    "cook_time = 10\n",
    "\n",
    "max_wait = total_lunch_time - order_time - eat_time - cook_time\n",
    "max_wait"
   ]
  },
  {
   "cell_type": "code",
   "execution_count": 92,
   "id": "b3093586",
   "metadata": {},
   "outputs": [
    {
     "data": {
      "text/plain": [
       "0.6914624612740131"
      ]
     },
     "execution_count": 92,
     "metadata": {},
     "output_type": "execute_result"
    }
   ],
   "source": [
    "stats.norm(mean, std).cdf(max_wait)"
   ]
  },
  {
   "cell_type": "code",
   "execution_count": null,
   "id": "f1226365",
   "metadata": {},
   "outputs": [],
   "source": []
  },
  {
   "cell_type": "code",
   "execution_count": null,
   "id": "23262564",
   "metadata": {},
   "outputs": [],
   "source": [
    "from pydataset import data\n",
    "from env import host, username, password"
   ]
  }
 ],
 "metadata": {
  "kernelspec": {
   "display_name": "Python 3 (ipykernel)",
   "language": "python",
   "name": "python3"
  },
  "language_info": {
   "codemirror_mode": {
    "name": "ipython",
    "version": 3
   },
   "file_extension": ".py",
   "mimetype": "text/x-python",
   "name": "python",
   "nbconvert_exporter": "python",
   "pygments_lexer": "ipython3",
   "version": "3.9.13"
  }
 },
 "nbformat": 4,
 "nbformat_minor": 5
}
