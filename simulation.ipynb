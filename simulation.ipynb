{
 "cells": [
  {
   "cell_type": "code",
   "execution_count": 62,
   "id": "cf1a5e0f",
   "metadata": {},
   "outputs": [],
   "source": [
    "%matplotlib inline\n",
    "import numpy as np\n",
    "import pandas as pd\n",
    "import matplotlib.pyplot as plt\n",
    "\n",
    "np.random.seed(12343)"
   ]
  },
  {
   "cell_type": "code",
   "execution_count": 63,
   "id": "3dfdc473",
   "metadata": {},
   "outputs": [],
   "source": [
    "# How likely is it that you roll doubles when rolling two dice?"
   ]
  },
  {
   "cell_type": "code",
   "execution_count": 64,
   "id": "46ae1455",
   "metadata": {},
   "outputs": [],
   "source": [
    "n_simulations = 100000"
   ]
  },
  {
   "cell_type": "code",
   "execution_count": 65,
   "id": "57b904d4",
   "metadata": {},
   "outputs": [
    {
     "data": {
      "text/plain": [
       "0.16666666666666666"
      ]
     },
     "execution_count": 65,
     "metadata": {},
     "output_type": "execute_result"
    }
   ],
   "source": [
    "6/ 36"
   ]
  },
  {
   "cell_type": "code",
   "execution_count": 66,
   "id": "019b7475",
   "metadata": {},
   "outputs": [],
   "source": [
    "n_dice = 2\n",
    "outcomes = [1, 2, 3, 4, 5, 6]"
   ]
  },
  {
   "cell_type": "code",
   "execution_count": 67,
   "id": "6d93ffdc",
   "metadata": {},
   "outputs": [],
   "source": [
    "rolls = np.random.choice(outcomes, size= (n_simulations, n_dice))"
   ]
  },
  {
   "cell_type": "code",
   "execution_count": 68,
   "id": "36855b5f",
   "metadata": {},
   "outputs": [],
   "source": [
    "rolls = pd.DataFrame(rolls)"
   ]
  },
  {
   "cell_type": "code",
   "execution_count": 69,
   "id": "e0ffcc52",
   "metadata": {},
   "outputs": [
    {
     "data": {
      "text/plain": [
       "0.16592"
      ]
     },
     "execution_count": 69,
     "metadata": {},
     "output_type": "execute_result"
    }
   ],
   "source": [
    "(rolls[0] == rolls[1]).mean()"
   ]
  },
  {
   "cell_type": "code",
   "execution_count": null,
   "id": "842b042b",
   "metadata": {},
   "outputs": [],
   "source": [
    "# If you flip 8 coins, what is the probability of getting exactly 3 heads? What is the probability of getting more than 3 heads?"
   ]
  },
  {
   "cell_type": "code",
   "execution_count": 17,
   "id": "f136cdb6",
   "metadata": {},
   "outputs": [],
   "source": [
    "n_coins = 8\n",
    "outcomes = ['H', 'T']"
   ]
  },
  {
   "cell_type": "code",
   "execution_count": 18,
   "id": "22aa67ac",
   "metadata": {},
   "outputs": [],
   "source": [
    "coinflips = np.random.choice(outcomes, size= (n_simulations, n_coins))"
   ]
  },
  {
   "cell_type": "code",
   "execution_count": 19,
   "id": "439cec8d",
   "metadata": {},
   "outputs": [
    {
     "data": {
      "text/plain": [
       "array([['T', 'H', 'H', ..., 'T', 'T', 'T'],\n",
       "       ['T', 'H', 'T', ..., 'H', 'T', 'T'],\n",
       "       ['T', 'T', 'T', ..., 'H', 'H', 'T'],\n",
       "       ...,\n",
       "       ['T', 'T', 'T', ..., 'T', 'H', 'T'],\n",
       "       ['T', 'H', 'H', ..., 'H', 'T', 'H'],\n",
       "       ['T', 'T', 'H', ..., 'H', 'T', 'T']], dtype='<U1')"
      ]
     },
     "execution_count": 19,
     "metadata": {},
     "output_type": "execute_result"
    }
   ],
   "source": [
    "coinflips"
   ]
  },
  {
   "cell_type": "code",
   "execution_count": 20,
   "id": "334afcf0",
   "metadata": {},
   "outputs": [],
   "source": [
    "flips_sim = (coinflips == 'H').sum(axis=1)"
   ]
  },
  {
   "cell_type": "code",
   "execution_count": 21,
   "id": "c350cf1a",
   "metadata": {},
   "outputs": [
    {
     "data": {
      "text/plain": [
       "0.63615"
      ]
     },
     "execution_count": 21,
     "metadata": {},
     "output_type": "execute_result"
    }
   ],
   "source": [
    "(flips_sim > 3).mean()"
   ]
  },
  {
   "cell_type": "code",
   "execution_count": 22,
   "id": "96ac56b5",
   "metadata": {},
   "outputs": [
    {
     "data": {
      "text/plain": [
       "0.21958"
      ]
     },
     "execution_count": 22,
     "metadata": {},
     "output_type": "execute_result"
    }
   ],
   "source": [
    "(flips_sim == 3).mean()"
   ]
  },
  {
   "cell_type": "code",
   "execution_count": null,
   "id": "4d07ec67",
   "metadata": {},
   "outputs": [],
   "source": [
    "# There are approximitely 3 web development cohorts for every 1 data science cohort at Codeup. Assuming that Codeup randomly selects an alumni to put on a billboard, what are the odds that the two billboards I drive past both have data science students on them?"
   ]
  },
  {
   "cell_type": "code",
   "execution_count": 27,
   "id": "1a0fbbbe",
   "metadata": {},
   "outputs": [
    {
     "data": {
      "text/plain": [
       "array([['H', 'H'],\n",
       "       ['H', 'T'],\n",
       "       ['T', 'T'],\n",
       "       ...,\n",
       "       ['H', 'T'],\n",
       "       ['T', 'T'],\n",
       "       ['T', 'H']], dtype='<U1')"
      ]
     },
     "execution_count": 27,
     "metadata": {},
     "output_type": "execute_result"
    }
   ],
   "source": [
    "coutcomes = ['wd', 'wd', 'wd', 'ds']\n",
    "n_billboards = 2\n",
    "billboards = np.random.choice(outcomes, size= (n_simulations, n_billboards))\n",
    "billboards"
   ]
  },
  {
   "cell_type": "code",
   "execution_count": 28,
   "id": "02e7f932",
   "metadata": {},
   "outputs": [],
   "source": [
    "outcomes = ['wd', 'ds']"
   ]
  },
  {
   "cell_type": "code",
   "execution_count": 29,
   "id": "d4d8752b",
   "metadata": {},
   "outputs": [],
   "source": [
    "billboards = np.random.choice(outcomes, size= (n_simulations, n_billboards))"
   ]
  },
  {
   "cell_type": "code",
   "execution_count": 31,
   "id": "2dc41bc5",
   "metadata": {},
   "outputs": [
    {
     "data": {
      "text/plain": [
       "array([2, 1, 1, ..., 0, 2, 1])"
      ]
     },
     "execution_count": 31,
     "metadata": {},
     "output_type": "execute_result"
    }
   ],
   "source": [
    "(billboards == 'ds').sum(axis=1)"
   ]
  },
  {
   "cell_type": "code",
   "execution_count": 32,
   "id": "79cdb6be",
   "metadata": {},
   "outputs": [
    {
     "data": {
      "text/plain": [
       "0.25149"
      ]
     },
     "execution_count": 32,
     "metadata": {},
     "output_type": "execute_result"
    }
   ],
   "source": [
    "prob = ((billboards == 'ds').sum(axis=1) == 2 ).mean()\n",
    "prob"
   ]
  },
  {
   "cell_type": "code",
   "execution_count": null,
   "id": "977c679a",
   "metadata": {},
   "outputs": [],
   "source": [
    "# Codeup students buy, on average, 3 poptart packages with a standard deviation of 1.5 a day from the snack vending machine. If on monday the machine is restocked with 17 poptart packages, how likely is it that I will be able to buy some poptarts on Friday afternoon? (Remember, if you have mean and standard deviation, use the np.random.normal) You'll need to make a judgement call on how to handle some of your values"
   ]
  },
  {
   "cell_type": "code",
   "execution_count": 33,
   "id": "683a3e36",
   "metadata": {},
   "outputs": [],
   "source": [
    "mean = 3\n",
    "sd = 1.5\n",
    "days = 5"
   ]
  },
  {
   "cell_type": "code",
   "execution_count": 36,
   "id": "8a45ce55",
   "metadata": {},
   "outputs": [
    {
     "ename": "SyntaxError",
     "evalue": "invalid syntax (246904678.py, line 2)",
     "output_type": "error",
     "traceback": [
      "\u001b[0;36m  Input \u001b[0;32mIn [36]\u001b[0;36m\u001b[0m\n\u001b[0;31m    pop_day\u001b[0m\n\u001b[0m    ^\u001b[0m\n\u001b[0;31mSyntaxError\u001b[0m\u001b[0;31m:\u001b[0m invalid syntax\n"
     ]
    }
   ],
   "source": [
    "pop_day = np.random.normal(mean, sd, size= (n_simulation, days)\n",
    "pop_day"
   ]
  },
  {
   "cell_type": "code",
   "execution_count": 34,
   "id": "e4bff8a9",
   "metadata": {},
   "outputs": [
    {
     "data": {
      "text/plain": [
       "(array([   9.,   88.,  537., 1578., 2752., 2773., 1626.,  533.,   95.,\n",
       "           9.]),\n",
       " array([-2.79423608, -1.6353275 , -0.47641892,  0.68248967,  1.84139825,\n",
       "         3.00030683,  4.15921541,  5.318124  ,  6.47703258,  7.63594116,\n",
       "         8.79484974]),\n",
       " <BarContainer object of 10 artists>)"
      ]
     },
     "execution_count": 34,
     "metadata": {},
     "output_type": "execute_result"
    },
    {
     "data": {
      "image/png": "[encoded data removed]",
      "text/plain": [
       "<Figure size 640x480 with 1 Axes>"
      ]
     },
     "metadata": {},
     "output_type": "display_data"
    }
   ],
   "source": [
    "plt.hist(np.random.normal(3,1.5, size=(10000)))"
   ]
  },
  {
   "cell_type": "code",
   "execution_count": null,
   "id": "ea7ab9a7",
   "metadata": {},
   "outputs": [],
   "source": [
    "# Compare Heights\n",
    "# If a man and woman are chosen at random, what is the likelihood the woman is taller than the man?"
   ]
  },
  {
   "cell_type": "code",
   "execution_count": 37,
   "id": "054d45ff",
   "metadata": {},
   "outputs": [],
   "source": [
    "men_avg = 178\n",
    "men_std = 8\n",
    "\n",
    "women_avg = 170 \n",
    "women_std = 6"
   ]
  },
  {
   "cell_type": "code",
   "execution_count": 40,
   "id": "4b4dcfcf",
   "metadata": {},
   "outputs": [
    {
     "data": {
      "text/plain": [
       "array([181.12139172, 187.30511324, 171.33103885, ..., 174.65566182,\n",
       "       176.60579267, 183.68507434])"
      ]
     },
     "execution_count": 40,
     "metadata": {},
     "output_type": "execute_result"
    }
   ],
   "source": [
    "height_men = np.random.normal(men_avg, men_std, n_simulations)\n",
    "height_men"
   ]
  },
  {
   "cell_type": "code",
   "execution_count": 42,
   "id": "b60eda11",
   "metadata": {},
   "outputs": [
    {
     "data": {
      "text/plain": [
       "array([168.08156486, 158.04401605, 172.35038283, ..., 167.80790358,\n",
       "       174.36298472, 169.17266062])"
      ]
     },
     "execution_count": 42,
     "metadata": {},
     "output_type": "execute_result"
    }
   ],
   "source": [
    "height_women = np.random.normal(women_avg, women_std, n_simulations)\n",
    "height_women"
   ]
  },
  {
   "cell_type": "code",
   "execution_count": 43,
   "id": "6c627d12",
   "metadata": {},
   "outputs": [
    {
     "data": {
      "text/plain": [
       "0.21039"
      ]
     },
     "execution_count": 43,
     "metadata": {},
     "output_type": "execute_result"
    }
   ],
   "source": [
    "(height_women > height_men).mean()"
   ]
  },
  {
   "cell_type": "code",
   "execution_count": null,
   "id": "a3eec669",
   "metadata": {},
   "outputs": [],
   "source": []
  },
  {
   "cell_type": "code",
   "execution_count": null,
   "id": "32370648",
   "metadata": {},
   "outputs": [],
   "source": [
    "# When installing anaconda on a student's computer, there's a 1 in 250 chance that the download is corrupted and the installation fails. What are the odds that after having 50 students download anaconda, no one has an installation issue? 100 students?"
   ]
  },
  {
   "cell_type": "code",
   "execution_count": 45,
   "id": "207f3ea1",
   "metadata": {},
   "outputs": [],
   "source": [
    "outcome = [\"S\", 'F']\n",
    "students = 50"
   ]
  },
  {
   "cell_type": "code",
   "execution_count": 47,
   "id": "cd543916",
   "metadata": {},
   "outputs": [
    {
     "data": {
      "text/plain": [
       "array([['S', 'F', 'F', ..., 'F', 'S', 'F'],\n",
       "       ['S', 'S', 'F', ..., 'F', 'S', 'F'],\n",
       "       ['S', 'F', 'S', ..., 'S', 'S', 'F'],\n",
       "       ...,\n",
       "       ['S', 'S', 'F', ..., 'F', 'F', 'S'],\n",
       "       ['F', 'F', 'S', ..., 'S', 'S', 'F'],\n",
       "       ['S', 'S', 'S', ..., 'F', 'S', 'S']], dtype='<U1')"
      ]
     },
     "execution_count": 47,
     "metadata": {},
     "output_type": "execute_result"
    }
   ],
   "source": [
    "downloads = np.random.choice(outcome, size = (n_simulations, students), )\n",
    "downloads\n"
   ]
  },
  {
   "cell_type": "code",
   "execution_count": 48,
   "id": "6db614ad",
   "metadata": {},
   "outputs": [
    {
     "data": {
      "text/plain": [
       "0.0"
      ]
     },
     "execution_count": 48,
     "metadata": {},
     "output_type": "execute_result"
    }
   ],
   "source": [
    "((downloads == 'S').sum(axis=1) == 50).mean()"
   ]
  },
  {
   "cell_type": "code",
   "execution_count": null,
   "id": "9b0ab892",
   "metadata": {},
   "outputs": [],
   "source": []
  },
  {
   "cell_type": "code",
   "execution_count": null,
   "id": "6451590d",
   "metadata": {},
   "outputs": [],
   "source": []
  },
  {
   "cell_type": "code",
   "execution_count": null,
   "id": "9af05bef",
   "metadata": {},
   "outputs": [],
   "source": [
    "# There's a 70% chance on any given day that there will be at least one food truck at Travis Park. However, you haven't seen a food truck there in 3 days. How unlikely is this?"
   ]
  },
  {
   "cell_type": "code",
   "execution_count": 49,
   "id": "a2ef1d78",
   "metadata": {},
   "outputs": [],
   "source": [
    "days = 3"
   ]
  },
  {
   "cell_type": "code",
   "execution_count": 54,
   "id": "33a9d8ab",
   "metadata": {},
   "outputs": [],
   "source": [
    "trucks = np.random.choice([0,1], size = (n_simulations, days), p = (0.3, 0.70))"
   ]
  },
  {
   "cell_type": "code",
   "execution_count": 55,
   "id": "a184b4a4",
   "metadata": {},
   "outputs": [
    {
     "data": {
      "text/plain": [
       "array([[0, 1, 1],\n",
       "       [1, 1, 1],\n",
       "       [1, 1, 1],\n",
       "       ...,\n",
       "       [1, 0, 0],\n",
       "       [1, 1, 1],\n",
       "       [1, 1, 0]])"
      ]
     },
     "execution_count": 55,
     "metadata": {},
     "output_type": "execute_result"
    }
   ],
   "source": [
    "trucks"
   ]
  },
  {
   "cell_type": "code",
   "execution_count": 56,
   "id": "759dc640",
   "metadata": {},
   "outputs": [
    {
     "data": {
      "text/plain": [
       "0.97266"
      ]
     },
     "execution_count": 56,
     "metadata": {},
     "output_type": "execute_result"
    }
   ],
   "source": [
    "(trucks.sum(axis=1) >= 1).mean()"
   ]
  },
  {
   "cell_type": "code",
   "execution_count": null,
   "id": "c6e50cb8",
   "metadata": {},
   "outputs": [],
   "source": []
  },
  {
   "cell_type": "code",
   "execution_count": null,
   "id": "239e1e17",
   "metadata": {},
   "outputs": [],
   "source": []
  },
  {
   "cell_type": "code",
   "execution_count": null,
   "id": "91039fbb",
   "metadata": {},
   "outputs": [],
   "source": [
    "# How likely is it that a food truck will show up sometime this week?"
   ]
  },
  {
   "cell_type": "code",
   "execution_count": null,
   "id": "71afd566",
   "metadata": {},
   "outputs": [],
   "source": []
  },
  {
   "cell_type": "code",
   "execution_count": null,
   "id": "b4cb0211",
   "metadata": {},
   "outputs": [],
   "source": [
    "# If 23 people are in the same room, what are the odds that two of them share a birthday? What if it's 20 people? 40?"
   ]
  },
  {
   "cell_type": "code",
   "execution_count": 57,
   "id": "17fa6f78",
   "metadata": {},
   "outputs": [],
   "source": [
    "outcomes = range(1, 366)\n",
    "students = 23"
   ]
  },
  {
   "cell_type": "code",
   "execution_count": 58,
   "id": "01e9c003",
   "metadata": {},
   "outputs": [
    {
     "data": {
      "text/plain": [
       "array([[230,  58,   2, ...,  49, 219, 269],\n",
       "       [249,  90, 291, ..., 318, 319,   2],\n",
       "       [291, 239,  96, ..., 255,  61, 101],\n",
       "       ...,\n",
       "       [246, 172,  58, ..., 161, 118,  64],\n",
       "       [354,   7, 197, ..., 261, 100, 213],\n",
       "       [273, 352,  67, ..., 202, 142, 308]])"
      ]
     },
     "execution_count": 58,
     "metadata": {},
     "output_type": "execute_result"
    }
   ],
   "source": [
    "birthdays = np.random.choice(outcomes, size = (n_simulations, students))\n",
    "birthdays"
   ]
  },
  {
   "cell_type": "code",
   "execution_count": 59,
   "id": "c0395efa",
   "metadata": {},
   "outputs": [],
   "source": [
    "birthdays = pd.DataFrame(birthdays)"
   ]
  },
  {
   "cell_type": "code",
   "execution_count": 60,
   "id": "f889a97c",
   "metadata": {},
   "outputs": [
    {
     "data": {
      "text/html": [
       "<div>\n",
       "<style scoped>\n",
       "    .dataframe tbody tr th:only-of-type {\n",
       "        vertical-align: middle;\n",
       "    }\n",
       "\n",
       "    .dataframe tbody tr th {\n",
       "        vertical-align: top;\n",
       "    }\n",
       "\n",
       "    .dataframe thead th {\n",
       "        text-align: right;\n",
       "    }\n",
       "</style>\n",
       "<table border=\"1\" class=\"dataframe\">\n",
       "  <thead>\n",
       "    <tr style=\"text-align: right;\">\n",
       "      <th></th>\n",
       "      <th>0</th>\n",
       "      <th>1</th>\n",
       "      <th>2</th>\n",
       "      <th>3</th>\n",
       "      <th>4</th>\n",
       "      <th>5</th>\n",
       "      <th>6</th>\n",
       "      <th>7</th>\n",
       "      <th>8</th>\n",
       "      <th>9</th>\n",
       "      <th>...</th>\n",
       "      <th>13</th>\n",
       "      <th>14</th>\n",
       "      <th>15</th>\n",
       "      <th>16</th>\n",
       "      <th>17</th>\n",
       "      <th>18</th>\n",
       "      <th>19</th>\n",
       "      <th>20</th>\n",
       "      <th>21</th>\n",
       "      <th>22</th>\n",
       "    </tr>\n",
       "  </thead>\n",
       "  <tbody>\n",
       "    <tr>\n",
       "      <th>0</th>\n",
       "      <td>230</td>\n",
       "      <td>58</td>\n",
       "      <td>2</td>\n",
       "      <td>258</td>\n",
       "      <td>36</td>\n",
       "      <td>19</td>\n",
       "      <td>74</td>\n",
       "      <td>253</td>\n",
       "      <td>149</td>\n",
       "      <td>141</td>\n",
       "      <td>...</td>\n",
       "      <td>60</td>\n",
       "      <td>30</td>\n",
       "      <td>152</td>\n",
       "      <td>138</td>\n",
       "      <td>121</td>\n",
       "      <td>58</td>\n",
       "      <td>4</td>\n",
       "      <td>49</td>\n",
       "      <td>219</td>\n",
       "      <td>269</td>\n",
       "    </tr>\n",
       "    <tr>\n",
       "      <th>1</th>\n",
       "      <td>249</td>\n",
       "      <td>90</td>\n",
       "      <td>291</td>\n",
       "      <td>357</td>\n",
       "      <td>35</td>\n",
       "      <td>61</td>\n",
       "      <td>249</td>\n",
       "      <td>151</td>\n",
       "      <td>331</td>\n",
       "      <td>66</td>\n",
       "      <td>...</td>\n",
       "      <td>171</td>\n",
       "      <td>82</td>\n",
       "      <td>228</td>\n",
       "      <td>230</td>\n",
       "      <td>341</td>\n",
       "      <td>253</td>\n",
       "      <td>204</td>\n",
       "      <td>318</td>\n",
       "      <td>319</td>\n",
       "      <td>2</td>\n",
       "    </tr>\n",
       "    <tr>\n",
       "      <th>2</th>\n",
       "      <td>291</td>\n",
       "      <td>239</td>\n",
       "      <td>96</td>\n",
       "      <td>59</td>\n",
       "      <td>276</td>\n",
       "      <td>238</td>\n",
       "      <td>325</td>\n",
       "      <td>12</td>\n",
       "      <td>129</td>\n",
       "      <td>159</td>\n",
       "      <td>...</td>\n",
       "      <td>112</td>\n",
       "      <td>69</td>\n",
       "      <td>268</td>\n",
       "      <td>35</td>\n",
       "      <td>92</td>\n",
       "      <td>337</td>\n",
       "      <td>29</td>\n",
       "      <td>255</td>\n",
       "      <td>61</td>\n",
       "      <td>101</td>\n",
       "    </tr>\n",
       "    <tr>\n",
       "      <th>3</th>\n",
       "      <td>20</td>\n",
       "      <td>334</td>\n",
       "      <td>171</td>\n",
       "      <td>41</td>\n",
       "      <td>93</td>\n",
       "      <td>256</td>\n",
       "      <td>171</td>\n",
       "      <td>235</td>\n",
       "      <td>185</td>\n",
       "      <td>234</td>\n",
       "      <td>...</td>\n",
       "      <td>324</td>\n",
       "      <td>18</td>\n",
       "      <td>242</td>\n",
       "      <td>184</td>\n",
       "      <td>82</td>\n",
       "      <td>31</td>\n",
       "      <td>255</td>\n",
       "      <td>167</td>\n",
       "      <td>142</td>\n",
       "      <td>153</td>\n",
       "    </tr>\n",
       "    <tr>\n",
       "      <th>4</th>\n",
       "      <td>245</td>\n",
       "      <td>83</td>\n",
       "      <td>69</td>\n",
       "      <td>213</td>\n",
       "      <td>175</td>\n",
       "      <td>50</td>\n",
       "      <td>359</td>\n",
       "      <td>197</td>\n",
       "      <td>134</td>\n",
       "      <td>273</td>\n",
       "      <td>...</td>\n",
       "      <td>119</td>\n",
       "      <td>117</td>\n",
       "      <td>99</td>\n",
       "      <td>49</td>\n",
       "      <td>189</td>\n",
       "      <td>287</td>\n",
       "      <td>62</td>\n",
       "      <td>223</td>\n",
       "      <td>236</td>\n",
       "      <td>25</td>\n",
       "    </tr>\n",
       "    <tr>\n",
       "      <th>...</th>\n",
       "      <td>...</td>\n",
       "      <td>...</td>\n",
       "      <td>...</td>\n",
       "      <td>...</td>\n",
       "      <td>...</td>\n",
       "      <td>...</td>\n",
       "      <td>...</td>\n",
       "      <td>...</td>\n",
       "      <td>...</td>\n",
       "      <td>...</td>\n",
       "      <td>...</td>\n",
       "      <td>...</td>\n",
       "      <td>...</td>\n",
       "      <td>...</td>\n",
       "      <td>...</td>\n",
       "      <td>...</td>\n",
       "      <td>...</td>\n",
       "      <td>...</td>\n",
       "      <td>...</td>\n",
       "      <td>...</td>\n",
       "      <td>...</td>\n",
       "    </tr>\n",
       "    <tr>\n",
       "      <th>99995</th>\n",
       "      <td>130</td>\n",
       "      <td>175</td>\n",
       "      <td>80</td>\n",
       "      <td>239</td>\n",
       "      <td>360</td>\n",
       "      <td>41</td>\n",
       "      <td>346</td>\n",
       "      <td>183</td>\n",
       "      <td>4</td>\n",
       "      <td>61</td>\n",
       "      <td>...</td>\n",
       "      <td>185</td>\n",
       "      <td>58</td>\n",
       "      <td>69</td>\n",
       "      <td>127</td>\n",
       "      <td>121</td>\n",
       "      <td>97</td>\n",
       "      <td>15</td>\n",
       "      <td>323</td>\n",
       "      <td>143</td>\n",
       "      <td>106</td>\n",
       "    </tr>\n",
       "    <tr>\n",
       "      <th>99996</th>\n",
       "      <td>52</td>\n",
       "      <td>287</td>\n",
       "      <td>23</td>\n",
       "      <td>243</td>\n",
       "      <td>365</td>\n",
       "      <td>189</td>\n",
       "      <td>7</td>\n",
       "      <td>1</td>\n",
       "      <td>13</td>\n",
       "      <td>143</td>\n",
       "      <td>...</td>\n",
       "      <td>265</td>\n",
       "      <td>212</td>\n",
       "      <td>207</td>\n",
       "      <td>296</td>\n",
       "      <td>219</td>\n",
       "      <td>115</td>\n",
       "      <td>123</td>\n",
       "      <td>322</td>\n",
       "      <td>178</td>\n",
       "      <td>179</td>\n",
       "    </tr>\n",
       "    <tr>\n",
       "      <th>99997</th>\n",
       "      <td>246</td>\n",
       "      <td>172</td>\n",
       "      <td>58</td>\n",
       "      <td>116</td>\n",
       "      <td>15</td>\n",
       "      <td>40</td>\n",
       "      <td>91</td>\n",
       "      <td>137</td>\n",
       "      <td>217</td>\n",
       "      <td>314</td>\n",
       "      <td>...</td>\n",
       "      <td>79</td>\n",
       "      <td>173</td>\n",
       "      <td>296</td>\n",
       "      <td>240</td>\n",
       "      <td>211</td>\n",
       "      <td>264</td>\n",
       "      <td>121</td>\n",
       "      <td>161</td>\n",
       "      <td>118</td>\n",
       "      <td>64</td>\n",
       "    </tr>\n",
       "    <tr>\n",
       "      <th>99998</th>\n",
       "      <td>354</td>\n",
       "      <td>7</td>\n",
       "      <td>197</td>\n",
       "      <td>104</td>\n",
       "      <td>281</td>\n",
       "      <td>96</td>\n",
       "      <td>327</td>\n",
       "      <td>337</td>\n",
       "      <td>132</td>\n",
       "      <td>253</td>\n",
       "      <td>...</td>\n",
       "      <td>40</td>\n",
       "      <td>187</td>\n",
       "      <td>223</td>\n",
       "      <td>2</td>\n",
       "      <td>110</td>\n",
       "      <td>254</td>\n",
       "      <td>291</td>\n",
       "      <td>261</td>\n",
       "      <td>100</td>\n",
       "      <td>213</td>\n",
       "    </tr>\n",
       "    <tr>\n",
       "      <th>99999</th>\n",
       "      <td>273</td>\n",
       "      <td>352</td>\n",
       "      <td>67</td>\n",
       "      <td>150</td>\n",
       "      <td>106</td>\n",
       "      <td>43</td>\n",
       "      <td>349</td>\n",
       "      <td>180</td>\n",
       "      <td>235</td>\n",
       "      <td>240</td>\n",
       "      <td>...</td>\n",
       "      <td>322</td>\n",
       "      <td>222</td>\n",
       "      <td>24</td>\n",
       "      <td>335</td>\n",
       "      <td>11</td>\n",
       "      <td>42</td>\n",
       "      <td>154</td>\n",
       "      <td>202</td>\n",
       "      <td>142</td>\n",
       "      <td>308</td>\n",
       "    </tr>\n",
       "  </tbody>\n",
       "</table>\n",
       "<p>100000 rows × 23 columns</p>\n",
       "</div>"
      ],
      "text/plain": [
       "        0    1    2    3    4    5    6    7    8    9   ...   13   14   15  \\\n",
       "0      230   58    2  258   36   19   74  253  149  141  ...   60   30  152   \n",
       "1      249   90  291  357   35   61  249  151  331   66  ...  171   82  228   \n",
       "2      291  239   96   59  276  238  325   12  129  159  ...  112   69  268   \n",
       "3       20  334  171   41   93  256  171  235  185  234  ...  324   18  242   \n",
       "4      245   83   69  213  175   50  359  197  134  273  ...  119  117   99   \n",
       "...    ...  ...  ...  ...  ...  ...  ...  ...  ...  ...  ...  ...  ...  ...   \n",
       "99995  130  175   80  239  360   41  346  183    4   61  ...  185   58   69   \n",
       "99996   52  287   23  243  365  189    7    1   13  143  ...  265  212  207   \n",
       "99997  246  172   58  116   15   40   91  137  217  314  ...   79  173  296   \n",
       "99998  354    7  197  104  281   96  327  337  132  253  ...   40  187  223   \n",
       "99999  273  352   67  150  106   43  349  180  235  240  ...  322  222   24   \n",
       "\n",
       "        16   17   18   19   20   21   22  \n",
       "0      138  121   58    4   49  219  269  \n",
       "1      230  341  253  204  318  319    2  \n",
       "2       35   92  337   29  255   61  101  \n",
       "3      184   82   31  255  167  142  153  \n",
       "4       49  189  287   62  223  236   25  \n",
       "...    ...  ...  ...  ...  ...  ...  ...  \n",
       "99995  127  121   97   15  323  143  106  \n",
       "99996  296  219  115  123  322  178  179  \n",
       "99997  240  211  264  121  161  118   64  \n",
       "99998    2  110  254  291  261  100  213  \n",
       "99999  335   11   42  154  202  142  308  \n",
       "\n",
       "[100000 rows x 23 columns]"
      ]
     },
     "execution_count": 60,
     "metadata": {},
     "output_type": "execute_result"
    }
   ],
   "source": [
    "birthdays"
   ]
  },
  {
   "cell_type": "code",
   "execution_count": 61,
   "id": "f54f658a",
   "metadata": {},
   "outputs": [
    {
     "data": {
      "text/plain": [
       "0.50883"
      ]
     },
     "execution_count": 61,
     "metadata": {},
     "output_type": "execute_result"
    }
   ],
   "source": [
    "(birthdays.nunique(axis=1) < 23).mean()"
   ]
  },
  {
   "cell_type": "code",
   "execution_count": null,
   "id": "fceee6fe",
   "metadata": {},
   "outputs": [],
   "source": []
  }
 ],
 "metadata": {
  "kernelspec": {
   "display_name": "Python 3 (ipykernel)",
   "language": "python",
   "name": "python3"
  },
  "language_info": {
   "codemirror_mode": {
    "name": "ipython",
    "version": 3
   },
   "file_extension": ".py",
   "mimetype": "text/x-python",
   "name": "python",
   "nbconvert_exporter": "python",
   "pygments_lexer": "ipython3",
   "version": "3.9.13"
  }
 },
 "nbformat": 4,
 "nbformat_minor": 5
}
